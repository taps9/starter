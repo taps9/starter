{
  "nbformat": 4,
  "nbformat_minor": 0,
  "metadata": {
    "colab": {
      "provenance": [],
      "authorship_tag": "ABX9TyOR+exKDwmS7bxdUDogpHRf",
      "include_colab_link": true
    },
    "kernelspec": {
      "name": "python3",
      "display_name": "Python 3"
    },
    "language_info": {
      "name": "python"
    }
  },
  "cells": [
    {
      "cell_type": "markdown",
      "metadata": {
        "id": "view-in-github",
        "colab_type": "text"
      },
      "source": [
        "<a href=\"https://colab.research.google.com/github/taps9/starter/blob/main/Tarea_02.ipynb\" target=\"_parent\"><img src=\"https://colab.research.google.com/assets/colab-badge.svg\" alt=\"Open In Colab\"/></a>"
      ]
    },
    {
      "cell_type": "markdown",
      "source": [
        "1. Hacer un programa que imprima los números del 1 al 100"
      ],
      "metadata": {
        "id": "KvF0DHAInm_H"
      }
    },
    {
      "cell_type": "code",
      "source": [
        "\n",
        "for x in range(100):\n",
        "  print(x+1)"
      ],
      "metadata": {
        "colab": {
          "base_uri": "https://localhost:8080/"
        },
        "id": "-KdL0AFQkald",
        "outputId": "5ecd8bbf-bb52-499d-fea7-5ed97b520b1b"
      },
      "execution_count": null,
      "outputs": [
        {
          "output_type": "stream",
          "name": "stdout",
          "text": [
            "1\n",
            "2\n",
            "3\n",
            "4\n",
            "5\n",
            "6\n",
            "7\n",
            "8\n",
            "9\n",
            "10\n",
            "11\n",
            "12\n",
            "13\n",
            "14\n",
            "15\n",
            "16\n",
            "17\n",
            "18\n",
            "19\n",
            "20\n",
            "21\n",
            "22\n",
            "23\n",
            "24\n",
            "25\n",
            "26\n",
            "27\n",
            "28\n",
            "29\n",
            "30\n",
            "31\n",
            "32\n",
            "33\n",
            "34\n",
            "35\n",
            "36\n",
            "37\n",
            "38\n",
            "39\n",
            "40\n",
            "41\n",
            "42\n",
            "43\n",
            "44\n",
            "45\n",
            "46\n",
            "47\n",
            "48\n",
            "49\n",
            "50\n",
            "51\n",
            "52\n",
            "53\n",
            "54\n",
            "55\n",
            "56\n",
            "57\n",
            "58\n",
            "59\n",
            "60\n",
            "61\n",
            "62\n",
            "63\n",
            "64\n",
            "65\n",
            "66\n",
            "67\n",
            "68\n",
            "69\n",
            "70\n",
            "71\n",
            "72\n",
            "73\n",
            "74\n",
            "75\n",
            "76\n",
            "77\n",
            "78\n",
            "79\n",
            "80\n",
            "81\n",
            "82\n",
            "83\n",
            "84\n",
            "85\n",
            "86\n",
            "87\n",
            "88\n",
            "89\n",
            "90\n",
            "91\n",
            "92\n",
            "93\n",
            "94\n",
            "95\n",
            "96\n",
            "97\n",
            "98\n",
            "99\n",
            "100\n"
          ]
        }
      ]
    },
    {
      "cell_type": "markdown",
      "source": [
        "Los números corresponden a una lista del 1 al 100 que se da al imprimir (print) el \"range\" 100 como se puede apreciar. El x+1 existe para que X -que simboliza al número que se pondrá- sea mayor a 0, puesto a que se suma por una unidad.\n"
      ],
      "metadata": {
        "id": "oC6ae3tXoajM"
      }
    },
    {
      "cell_type": "markdown",
      "source": [
        "2. Programar para imprimir los números del 1 al 100 que sean divisibles entre 3 (con resto 0)"
      ],
      "metadata": {
        "id": "L6AYgS8GnwRS"
      }
    },
    {
      "cell_type": "code",
      "source": [
        "for x in range(100):\n",
        "\n",
        "  if (x+1) % 3 == 0:\n",
        "    print(x+1)"
      ],
      "metadata": {
        "colab": {
          "base_uri": "https://localhost:8080/"
        },
        "id": "OSK3dPjck3pl",
        "outputId": "be9350a4-de81-4cd1-f221-800754679e04"
      },
      "execution_count": null,
      "outputs": [
        {
          "output_type": "stream",
          "name": "stdout",
          "text": [
            "3\n",
            "6\n",
            "9\n",
            "12\n",
            "15\n",
            "18\n",
            "21\n",
            "24\n",
            "27\n",
            "30\n",
            "33\n",
            "36\n",
            "39\n",
            "42\n",
            "45\n",
            "48\n",
            "51\n",
            "54\n",
            "57\n",
            "60\n",
            "63\n",
            "66\n",
            "69\n",
            "72\n",
            "75\n",
            "78\n",
            "81\n",
            "84\n",
            "87\n",
            "90\n",
            "93\n",
            "96\n",
            "99\n"
          ]
        }
      ]
    },
    {
      "cell_type": "markdown",
      "source": [
        "Este es un ejercicio similar pero con una cuota mayor de complejidad, ya que hay que hay que hacer el mismo procedimiento del range 100 y x+1, pero agregándole el if para que se consideren únicamente los números dentro del rango que se puedan dividir exactamente por 3."
      ],
      "metadata": {
        "id": "htsABcWIpXUR"
      }
    },
    {
      "cell_type": "markdown",
      "source": [
        "3. Realiza el algoritmo para un sumador de dos números. Si el resultado es menor a 100 se mostrará el mensaje \"menor 100\", si el resultado es mayor a 100, pero menor a 150 mostrará el mensaje \"mayor a 100\", pero si es mayor a 150 mostrará el mensaje \"mayor a 150\""
      ],
      "metadata": {
        "id": "uOV6pNz1n9Ff"
      }
    },
    {
      "cell_type": "code",
      "source": [
        " numero_1 = int(input(\"ingresa un número\"))\n",
        " numero_2 = 5\n",
        " suma = numero_1 + numero_2\n",
        " resultado = \"\"\n",
        "\n",
        "if(suma<100):\n",
        "  resultado = \"menor a 100\"\n",
        "elif(suma>=100 and suma<150):\n",
        "    resultado = \"mayor a 100\"\n",
        "elif(suma>=150):\n",
        "  resultado = \"mayor a 150\"\n",
        "print(resultado)"
      ],
      "metadata": {
        "colab": {
          "base_uri": "https://localhost:8080/"
        },
        "id": "8NCyNkuxmqdv",
        "outputId": "f11d713e-19de-4598-db1e-4ca4348f5e4e"
      },
      "execution_count": null,
      "outputs": [
        {
          "output_type": "stream",
          "name": "stdout",
          "text": [
            "ingresa un número39\n",
            "menor a 100\n"
          ]
        }
      ]
    },
    {
      "cell_type": "markdown",
      "source": [
        "Este programa ya cuenta con la interacción de nosotros al \"hacerle play\". Primero hay que ingresar dos números (numero_1 y numero_2) para que luego el sistema los pueda sumar. Aún así, no se queda ahí, ya que le pedimos que nos pueda decir si es que las sumas de los dos números seleccionados son menores a 100, mayores a 100 o mayores a 150. Todo eso con los if y elif. Para ver si esto funciona se escribió print y el resultado."
      ],
      "metadata": {
        "id": "cjfYhXLMqLTb"
      }
    },
    {
      "cell_type": "markdown",
      "source": [
        "4. Generar un programa que combine variables, tipos de datos y una condicional en Python (hacer una función que evalúe si el usuario es mayor de edad y si le gusta la programación, que envíe diferentes textos según la respuesta del usuario)\n",
        "\n",
        "\n"
      ],
      "metadata": {
        "id": "Krfcs8djYkqY"
      }
    },
    {
      "cell_type": "code",
      "source": [
        "numero_1 = int(input(\"edad\"))\n",
        "respuesta_1 = input(\"¿te gusta la programacion?\")\n",
        "resultado = \"\"\n",
        "\n",
        "if(numero_1>=18 and respuesta_1 == \"si\"):\n",
        "  resultado = \"Eres mayor de edad y te gusta programar\"\n",
        "elif(numero_1<18 and respuesta_1 == \"si\"):\n",
        "  resultado = \"Eres menor de edad y te gusta programar\"\n",
        "elif(numero_1>=18 and respuesta_1 == \"no\"):\n",
        "  resultado = \"Eres mayor de edad y no te gusta programar\"\n",
        "elif(numero_1<18 and respuesta_1 == \"no\"):\n",
        "  resultado = \"Eres menor de edad y no te gusta programar\"\n",
        "\n",
        "print(resultado)"
      ],
      "metadata": {
        "colab": {
          "base_uri": "https://localhost:8080/"
        },
        "id": "lASvweO-Ymt6",
        "outputId": "dbe6ead7-f092-4810-9764-b43eb2e59740"
      },
      "execution_count": null,
      "outputs": [
        {
          "output_type": "stream",
          "name": "stdout",
          "text": [
            "edad67\n",
            "¿te gusta la programacion?si\n",
            "Eres mayor de edad y te gusta programar\n"
          ]
        }
      ]
    },
    {
      "cell_type": "markdown",
      "source": [
        "Por último, en este último ejercicio, el cual fue el único que hicimos por nuestra cuenta, debíamos programar para que se vean las variables de edad y el gusto por programar. Es así cómo ingresamos la afirmación de mayores y menores de edad (siendo más de 18 mayor y menos, menor) y luego, las distintas opciones que pueden llevarse a cabo; mayor de edad y (no) me gusta programar; y menor de edad y (no) me gusta programar. Por último, se imprime el resultado y se corrobora si es que funciona ingresando algún número y si es que le gusta o no programar, dando co alguna de las cuatro respuestas."
      ],
      "metadata": {
        "id": "SBkdSNrvrsJq"
      }
    }
  ]
}